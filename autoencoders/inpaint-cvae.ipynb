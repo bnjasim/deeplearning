{
 "cells": [
  {
   "cell_type": "markdown",
   "metadata": {},
   "source": [
    "## Inpainting: Complete a Digit given a Half Image"
   ]
  },
  {
   "cell_type": "code",
   "execution_count": 2,
   "metadata": {
    "collapsed": false
   },
   "outputs": [
    {
     "name": "stderr",
     "output_type": "stream",
     "text": [
      "Using TensorFlow backend.\n"
     ]
    }
   ],
   "source": [
    "%matplotlib inline\n",
    "\n",
    "from tensorflow.examples.tutorials.mnist import input_data\n",
    "from keras.layers import Input, Dense, Lambda\n",
    "from keras.layers import *\n",
    "from keras.models import Model\n",
    "from keras.objectives import binary_crossentropy\n",
    "from keras.callbacks import LearningRateScheduler\n",
    "\n",
    "import numpy as np\n",
    "import matplotlib.pyplot as plt\n",
    "import keras.backend as K\n",
    "import tensorflow as tf"
   ]
  },
  {
   "cell_type": "code",
   "execution_count": 3,
   "metadata": {
    "collapsed": false
   },
   "outputs": [
    {
     "name": "stdout",
     "output_type": "stream",
     "text": [
      "Extracting MNIST_data/train-images-idx3-ubyte.gz\n",
      "Extracting MNIST_data/train-labels-idx1-ubyte.gz\n",
      "Extracting MNIST_data/t10k-images-idx3-ubyte.gz\n",
      "Extracting MNIST_data/t10k-labels-idx1-ubyte.gz\n"
     ]
    }
   ],
   "source": [
    "mnist = input_data.read_data_sets(\"MNIST_data/\", one_hot=True)"
   ]
  },
  {
   "cell_type": "code",
   "execution_count": 4,
   "metadata": {
    "collapsed": false
   },
   "outputs": [],
   "source": [
    "train_data = mnist.train.images\n",
    "train_labels = mnist.train.labels\n",
    "n_x = train_data.shape[1] # 784\n",
    "n_y = train_labels.shape[1] # 10\n",
    "n_z = 2\n",
    "n_epoch = 20\n",
    "m = 50 # batch size"
   ]
  },
  {
   "cell_type": "code",
   "execution_count": 12,
   "metadata": {
    "collapsed": true
   },
   "outputs": [],
   "source": [
    "# Encoder Q(z/X, c)\n",
    "X = Input(shape=(n_x,))\n",
    "\n",
    "# Hidden layer of the encoder\n",
    "h_q = Dense(512, activation='relu')(X)\n",
    "mu = Dense(n_z, activation='linear')(h_q)\n",
    "log_sigma = Dense(n_z, activation='linear')(h_q)"
   ]
  },
  {
   "cell_type": "code",
   "execution_count": 26,
   "metadata": {
    "collapsed": false
   },
   "outputs": [],
   "source": [
    "def sample_z(args):\n",
    "    mu, log_sigma = args\n",
    "    eps = K.random_normal(shape=(n_z,), mean=0.)\n",
    "    return mu + K.exp(log_sigma / 2) * eps\n",
    "\n",
    "\n",
    "# Sample z ~ Q(z|X)\n",
    "z = Lambda(sample_z)([mu, log_sigma])\n",
    "# concatenate z with c\n",
    "# Here cond is the top half of the image\n",
    "def split_im(im):\n",
    "    return X[:, :392]\n",
    "    \n",
    "cond = Lambda(split_im)(X)\n",
    "z_cond = concatenate([z, cond], axis=1)\n",
    "#z_cond = merge([z, cond], mode='concat', concat_axis=1)"
   ]
  },
  {
   "cell_type": "code",
   "execution_count": 16,
   "metadata": {
    "collapsed": false
   },
   "outputs": [
    {
     "data": {
      "text/plain": [
       "<tf.Tensor 'concatenate_2/concat:0' shape=(?, 394) dtype=float32>"
      ]
     },
     "execution_count": 16,
     "metadata": {},
     "output_type": "execute_result"
    }
   ],
   "source": [
    "z_cond"
   ]
  },
  {
   "cell_type": "code",
   "execution_count": 17,
   "metadata": {
    "collapsed": true
   },
   "outputs": [],
   "source": [
    "# P(X|z) -- decoder\n",
    "decoder_hidden = Dense(512, activation='relu')\n",
    "decoder_out = Dense(784, activation='sigmoid')\n",
    "\n",
    "h_p = decoder_hidden(z_cond)\n",
    "output = decoder_out(h_p)"
   ]
  },
  {
   "cell_type": "code",
   "execution_count": 18,
   "metadata": {
    "collapsed": false
   },
   "outputs": [],
   "source": [
    "# Overall CVAE model, for reconstruction and training\n",
    "vae = Model(X, output)"
   ]
  },
  {
   "cell_type": "code",
   "execution_count": 17,
   "metadata": {
    "collapsed": true
   },
   "outputs": [],
   "source": [
    "# Encoder model, to encode input into latent variable\n",
    "# We use the mean as the output as it is the representative of the gaussian\n",
    "encoder = Model(X, mu)"
   ]
  },
  {
   "cell_type": "code",
   "execution_count": 25,
   "metadata": {
    "collapsed": false
   },
   "outputs": [],
   "source": [
    "# Generator model, generate new data given latent variable z\n",
    "d_in = Input(shape=(n_z + 392,)) # concatenate label with z\n",
    "d_h = decoder_hidden(d_in)\n",
    "d_out = decoder_out(d_h)\n",
    "decoder = Model(d_in, d_out)"
   ]
  },
  {
   "cell_type": "code",
   "execution_count": 27,
   "metadata": {
    "collapsed": true
   },
   "outputs": [],
   "source": [
    "def vae_loss(y_true, y_pred):\n",
    "    \"\"\" Calculate loss = reconstruction loss + KL loss for each data in minibatch \"\"\"\n",
    "    # E[log P(X|z)]\n",
    "    recon = K.sum(K.binary_crossentropy(y_pred, y_true), axis=1)\n",
    "    # D_KL(Q(z|X) || P(z|X)); calculate in closed form as both dist. are Gaussian\n",
    "    kl = 0.5 * K.sum(K.exp(log_sigma) + K.square(mu) - 1. - log_sigma, axis=1)\n",
    "\n",
    "    return recon + kl"
   ]
  },
  {
   "cell_type": "code",
   "execution_count": 35,
   "metadata": {
    "collapsed": false
   },
   "outputs": [
    {
     "name": "stdout",
     "output_type": "stream",
     "text": [
      "Epoch 1/20\n",
      "10000/10000 [==============================] - 7s - loss: 78.6928     \n",
      "Epoch 2/20\n",
      "10000/10000 [==============================] - 6s - loss: 77.4638     \n",
      "Epoch 3/20\n",
      "10000/10000 [==============================] - 6s - loss: 77.0730     \n",
      "Epoch 4/20\n",
      "10000/10000 [==============================] - 6s - loss: 76.4089     \n",
      "Epoch 5/20\n",
      "10000/10000 [==============================] - 6s - loss: 76.1840     \n",
      "Epoch 6/20\n",
      "10000/10000 [==============================] - 6s - loss: 75.9160     \n",
      "Epoch 7/20\n",
      "10000/10000 [==============================] - 7s - loss: 75.6803     \n",
      "Epoch 8/20\n",
      "10000/10000 [==============================] - 6s - loss: 75.4011     \n",
      "Epoch 9/20\n",
      "10000/10000 [==============================] - 6s - loss: 75.2316     \n",
      "Epoch 10/20\n",
      "10000/10000 [==============================] - 6s - loss: 74.6364     \n",
      "Epoch 11/20\n",
      "10000/10000 [==============================] - 6s - loss: 74.4343     \n",
      "Epoch 12/20\n",
      "10000/10000 [==============================] - 7s - loss: 74.2898     \n",
      "Epoch 13/20\n",
      "10000/10000 [==============================] - 6s - loss: 74.0561     \n",
      "Epoch 14/20\n",
      "10000/10000 [==============================] - 7s - loss: 73.9358     \n",
      "Epoch 15/20\n",
      "10000/10000 [==============================] - 7s - loss: 73.7023     \n",
      "Epoch 16/20\n",
      "10000/10000 [==============================] - 6s - loss: 73.5421     \n",
      "Epoch 17/20\n",
      "10000/10000 [==============================] - 6s - loss: 73.1547     \n",
      "Epoch 18/20\n",
      "10000/10000 [==============================] - 7s - loss: 73.1613     \n",
      "Epoch 19/20\n",
      "10000/10000 [==============================] - 7s - loss: 72.8128     \n",
      "Epoch 20/20\n",
      "10000/10000 [==============================] - 7s - loss: 72.7881     \n"
     ]
    },
    {
     "data": {
      "text/plain": [
       "<keras.callbacks.History at 0x12249c690>"
      ]
     },
     "execution_count": 35,
     "metadata": {},
     "output_type": "execute_result"
    }
   ],
   "source": [
    "vae.compile(optimizer='adam', loss=vae_loss)\n",
    "vae.fit(train_data[:10000], train_data[:10000], batch_size=m, epochs=n_epoch)"
   ]
  },
  {
   "cell_type": "markdown",
   "metadata": {
    "collapsed": true
   },
   "source": [
    "## Test Images"
   ]
  },
  {
   "cell_type": "code",
   "execution_count": 124,
   "metadata": {
    "collapsed": false
   },
   "outputs": [
    {
     "data": {
      "image/png": "[encoded data removed]",
      "text/plain": [
       "<matplotlib.figure.Figure at 0x12357b250>"
      ]
     },
     "metadata": {},
     "output_type": "display_data"
    },
    {
     "data": {
      "text/plain": [
       "<matplotlib.image.AxesImage at 0x1223f7450>"
      ]
     },
     "execution_count": 124,
     "metadata": {},
     "output_type": "execute_result"
    },
    {
     "data": {
      "image/png": "[encoded data removed]",
      "text/plain": [
       "<matplotlib.figure.Figure at 0x124809990>"
      ]
     },
     "metadata": {},
     "output_type": "display_data"
    }
   ],
   "source": [
    "x = train_data[1]\n",
    "plt.imshow(x.reshape(28,28), cmap='gray', vmin=0, vmax=1)\n",
    "plt.show()\n",
    "y = x[:392]\n",
    "plt.imshow(y.reshape(14,28), cmap='gray', vmin=0, vmax=1)"
   ]
  },
  {
   "cell_type": "code",
   "execution_count": 138,
   "metadata": {
    "collapsed": false
   },
   "outputs": [
    {
     "data": {
      "image/png": "[encoded data removed]",
      "text/plain": [
       "<matplotlib.figure.Figure at 0x122b1c410>"
      ]
     },
     "metadata": {},
     "output_type": "display_data"
    }
   ],
   "source": [
    "# we are giving y as cond\n",
    "# sample z\n",
    "z = np.array([np.random.normal(), np.random.normal()]).flatten()\n",
    "z_concat = np.concatenate([z, y]).reshape(1,394)\n",
    "\n",
    "x_out = decoder.predict(z_concat)\n",
    "\n",
    "plt.imshow(x_out.reshape(28,28), cmap='gray', vmin=0, vmax=1)\n",
    "plt.show()"
   ]
  },
  {
   "cell_type": "code",
   "execution_count": 42,
   "metadata": {
    "collapsed": false
   },
   "outputs": [
    {
     "data": {
      "text/plain": [
       "(1, 394)"
      ]
     },
     "execution_count": 42,
     "metadata": {},
     "output_type": "execute_result"
    }
   ],
   "source": [
    "z_concat.shape"
   ]
  }
 ],
 "metadata": {
  "kernelspec": {
   "display_name": "Python [Root]",
   "language": "python",
   "name": "Python [Root]"
  },
  "language_info": {
   "codemirror_mode": {
    "name": "ipython",
    "version": 2
   },
   "file_extension": ".py",
   "mimetype": "text/x-python",
   "name": "python",
   "nbconvert_exporter": "python",
   "pygments_lexer": "ipython2",
   "version": "2.7.13"
  }
 },
 "nbformat": 4,
 "nbformat_minor": 0
}
